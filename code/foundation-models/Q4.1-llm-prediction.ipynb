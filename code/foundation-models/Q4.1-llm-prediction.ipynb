{
 "cells": [
  {
   "cell_type": "code",
   "execution_count": 1,
   "metadata": {},
   "outputs": [],
   "source": [
    "import pandas as pd\n",
    "from sklearn.metrics import roc_auc_score, average_precision_score"
   ]
  },
  {
   "cell_type": "code",
   "execution_count": 2,
   "metadata": {},
   "outputs": [
    {
     "name": "stdout",
     "output_type": "stream",
     "text": [
      "  - AuROC: 0.4800\n",
      "  - AuPRC: 0.1392\n"
     ]
    }
   ],
   "source": [
    "y_pred_proba = pd.read_parquet(\"../../data/foundation-model-predictions.parquet\")['Probability']\n",
    "y_test = pd.read_csv('../../data/Outcomes-c.txt').sort_values(by='RecordID')['In-hospital_death']\n",
    "\n",
    "auroc = roc_auc_score(y_test, y_pred_proba)\n",
    "auprc = average_precision_score(y_test, y_pred_proba)\n",
    "\n",
    "\n",
    "print(f\"  - AuROC: {auroc:.4f}\")\n",
    "print(f\"  - AuPRC: {auprc:.4f}\")\n",
    "\n",
    "\n"
   ]
  }
 ],
 "metadata": {
  "kernelspec": {
   "display_name": ".venv",
   "language": "python",
   "name": "python3"
  },
  "language_info": {
   "codemirror_mode": {
    "name": "ipython",
    "version": 3
   },
   "file_extension": ".py",
   "mimetype": "text/x-python",
   "name": "python",
   "nbconvert_exporter": "python",
   "pygments_lexer": "ipython3",
   "version": "3.11.1"
  }
 },
 "nbformat": 4,
 "nbformat_minor": 2
}
