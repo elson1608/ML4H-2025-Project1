{
 "cells": [
  {
   "cell_type": "code",
   "execution_count": 1,
   "id": "initial_id",
   "metadata": {
    "ExecuteTime": {
     "end_time": "2025-03-21T14:10:20.382775Z",
     "start_time": "2025-03-21T14:10:18.203751Z"
    },
    "collapsed": true
   },
   "outputs": [],
   "source": [
    "import os\n",
    "import pandas as pd\n",
    "\n",
    "import warnings\n",
    "warnings.simplefilter(action='ignore', category=FutureWarning)"
   ]
  },
  {
   "cell_type": "code",
   "execution_count": 2,
   "id": "857a9b357956f68d",
   "metadata": {
    "ExecuteTime": {
     "end_time": "2025-03-21T14:10:20.389453Z",
     "start_time": "2025-03-21T14:10:20.386573Z"
    }
   },
   "outputs": [],
   "source": [
    "def round_timestamp(ts_str):\n",
    "    ts_str_splitted = ts_str.split(\":\")\n",
    "    hours = ts_str_splitted[0]\n",
    "    minutes = ts_str_splitted[1]\n",
    "    if minutes != \"00\":\n",
    "        hours = str(int(hours) + 1).zfill(2)\n",
    "        minutes = \"00\"\n",
    "    return hours + \":\" + minutes"
   ]
  },
  {
   "cell_type": "code",
   "execution_count": 3,
   "id": "680c51e22e876525",
   "metadata": {
    "ExecuteTime": {
     "end_time": "2025-03-21T14:13:47.735881Z",
     "start_time": "2025-03-21T14:10:21.305503Z"
    }
   },
   "outputs": [],
   "source": [
    "path = \"../../data\"\n",
    "\n",
    "# Define all expected columns\n",
    "expected_columns = [\n",
    "    'Age', 'Gender', 'Height', 'Weight', 'ICUType', 'Albumin', 'ALP', 'ALT', 'AST',\n",
    "    'Bilirubin', 'BUN', 'Cholesterol', 'Creatinine', 'FiO2', 'DiasABP',\n",
    "    'GCS', 'Glucose', 'HCO3', 'HCT', 'HR', 'K', 'Lactate', 'Mg', 'MAP',\n",
    "    'MechVent', 'Na', 'NIDiasABP', 'NIMAP', 'NISysABP', 'PaCO2', 'PaO2',\n",
    "    'pH', 'Platelets', 'RespRate', 'SaO2', 'SysABP', 'Temp', 'TroponinI',\n",
    "    'TroponinT', 'Urine', 'WBC', 'RecordID'\n",
    "]\n",
    "\n",
    "# Define static parameters\n",
    "static_params = ['Age','Gender','Height', 'Weight', 'RecordID']\n",
    "\n",
    "for patient_set in os.listdir(path):\n",
    "    directory = os.path.join(path, patient_set)\n",
    "    if os.path.isdir(directory):\n",
    "        set_df = None\n",
    "        with os.scandir(directory) as entries:\n",
    "            for file in entries:\n",
    "                if file.is_file():\n",
    "                    df = pd.read_csv(file, delimiter=\",\")\n",
    "\n",
    "                    # Extract static variables including Weight\n",
    "                    static_vars = df[\n",
    "                        (df['Time'] == '00:00') &\n",
    "                        (df['Parameter'].isin(static_params))\n",
    "                    ].drop_duplicates(subset=['Parameter'], keep='first').set_index('Parameter')['Value']\n",
    "\n",
    "                    # Round timestamps\n",
    "                    df['Time'] = df['Time'].apply(round_timestamp)\n",
    "                    df = df.pivot_table(index=\"Time\", columns=\"Parameter\", values=\"Value\").reset_index()\n",
    "\n",
    "                    # Identify missing columns and add them\n",
    "                    for col in expected_columns:\n",
    "                        if col not in df.columns:\n",
    "                            df[col] = None  # or use np.nan for float-based missing values\n",
    "\n",
    "                    # Generate the full time range from 00:00 to 48:00\n",
    "                    full_time_range = [f\"{str(h).zfill(2)}:00\" for h in range(49)]\n",
    "\n",
    "                    # Set 'time' as the index\n",
    "                    df.set_index('Time', inplace=True)\n",
    "\n",
    "                    # Reindex the DataFrame to include all times, filling missing values with NaN\n",
    "                    df = df.reindex(full_time_range).reset_index()\n",
    "\n",
    "\n",
    "                    # Add static variables\n",
    "                    for param in static_params:\n",
    "                        if param != \"Weight\":\n",
    "                            df[param] = static_vars[param]\n",
    "                        else:\n",
    "                            try:\n",
    "                                df[\"Weight(static)\"] = static_vars[\"Weight\"]\n",
    "                            except ValueError:\n",
    "                                print(\"Error: \", static_vars)\n",
    "                                display(static_vars)\n",
    "                                exit()\n",
    "\n",
    "                    # Replace missing values\n",
    "                    df = df.applymap(lambda x: pd.NA if isinstance(x, (int, float)) and x < 0 else x)\n",
    "\n",
    "                    # Convert ID to int\n",
    "                    df['RecordID'] = df['RecordID'].astype(int)\n",
    "\n",
    "                    if set_df is None:\n",
    "                        set_df = df\n",
    "                    else:\n",
    "                        set_df = pd.concat([set_df, df], ignore_index=True)\n",
    "            set_df.to_parquet(f\"{directory}.parquet\", index=False)"
   ]
  }
 ],
 "metadata": {
  "kernelspec": {
   "display_name": "testvenv",
   "language": "python",
   "name": "python3"
  },
  "language_info": {
   "codemirror_mode": {
    "name": "ipython",
    "version": 3
   },
   "file_extension": ".py",
   "mimetype": "text/x-python",
   "name": "python",
   "nbconvert_exporter": "python",
   "pygments_lexer": "ipython3",
   "version": "3.11.1"
  }
 },
 "nbformat": 4,
 "nbformat_minor": 5
}
